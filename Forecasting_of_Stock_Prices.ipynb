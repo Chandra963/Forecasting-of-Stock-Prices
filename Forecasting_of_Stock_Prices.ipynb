{
  "nbformat": 4,
  "nbformat_minor": 0,
  "metadata": {
    "colab": {
      "provenance": []
    },
    "kernelspec": {
      "name": "python3",
      "display_name": "Python 3"
    },
    "language_info": {
      "name": "python"
    }
  },
  "cells": [
    {
      "cell_type": "markdown",
      "source": [
        "# 1. Data Collection\n",
        " We'll use Pandas to load a dataset. For this project,\n",
        " you can download historical stock price data from a source like Yahoo Finance or use a CSV file."
      ],
      "metadata": {
        "id": "zXbKCli9gh06"
      }
    },
    {
      "cell_type": "code",
      "execution_count": null,
      "metadata": {
        "id": "DiduMX1-gSCx"
      },
      "outputs": [],
      "source": [
        "import pandas as pd\n",
        "\n",
        "# Load stock data (assuming you have a CSV file with Date and Close columns)\n",
        "data = pd.read_csv('AAPL.csv', parse_dates=['Date'], index_col='Date')\n",
        "data = data[['Close']]  # Focus on closing prices\n",
        "data = data.dropna()  # Drop any missing values\n",
        "print(data.head())"
      ]
    },
    {
      "cell_type": "markdown",
      "source": [
        "# 2. Data Preprocessing\n",
        "  We'll ensure the data is properly indexed by date and handle any necessary preprocessing steps."
      ],
      "metadata": {
        "id": "gGqrlmCNg2Hz"
      }
    },
    {
      "cell_type": "code",
      "source": [
        "# Ensure data is sorted by date\n",
        "data = data.sort_index()\n",
        "\n",
        "# Check for any missing dates and fill them if necessary\n",
        "data = data.asfreq('D', method='pad')\n",
        "\n",
        "print(data.head())"
      ],
      "metadata": {
        "id": "LkicWlnQgUr1"
      },
      "execution_count": null,
      "outputs": []
    },
    {
      "cell_type": "markdown",
      "source": [
        "# 3. Time Series Decomposition\n",
        "   Decompose the data into trend and noise using a simple moving average."
      ],
      "metadata": {
        "id": "VN8uaHrVg8oD"
      }
    },
    {
      "cell_type": "code",
      "source": [
        "def moving_average(data, window_size):\n",
        "    return data.rolling(window=window_size).mean()\n",
        "\n",
        "# Calculate the 30-day moving average as the trend component\n",
        "trend = moving_average(data['Close'], 30)\n",
        "data['Trend'] = trend\n",
        "\n",
        "# Calculate the noise as the difference between the actual data and the trend\n",
        "data['Noise'] = data['Close'] - data['Trend']\n",
        "\n",
        "print(data.head())"
      ],
      "metadata": {
        "id": "GhTXgmKSgUvN"
      },
      "execution_count": null,
      "outputs": []
    },
    {
      "cell_type": "markdown",
      "source": [
        "# 4. Simple Moving Average Forecasting\n",
        "  We'll use a simple moving average to forecast future values."
      ],
      "metadata": {
        "id": "n-cL6dQwhGum"
      }
    },
    {
      "cell_type": "code",
      "source": [
        "# Forecast future prices using the last available moving average\n",
        "forecast_period = 30  # Number of days to forecast\n",
        "last_trend_value = data['Trend'].iloc[-1]\n",
        "\n",
        "forecast = pd.Series([last_trend_value] * forecast_period,\n",
        "                     index=pd.date_range(start=data.index[-1], periods=forecast_period + 1, freq='D')[1:])\n",
        "\n",
        "print(forecast)"
      ],
      "metadata": {
        "id": "KxcvhzbwgVJ8"
      },
      "execution_count": null,
      "outputs": []
    },
    {
      "cell_type": "markdown",
      "source": [
        "# 5. Visualization\n",
        "  Visualize the historical data along with the trend and forecasted values using Matplotlib."
      ],
      "metadata": {
        "id": "CvGjAVwzhNyJ"
      }
    },
    {
      "cell_type": "code",
      "source": [
        "import matplotlib.pyplot as plt\n",
        "\n",
        "# Plot historical data, trend, and forecast\n",
        "plt.figure(figsize=(12, 6))\n",
        "plt.plot(data.index, data['Close'], label='Historical Data', color='blue')\n",
        "plt.plot(data.index, data['Trend'], label='Trend (30-Day MA)', color='green')\n",
        "plt.plot(forecast.index, forecast, label='Forecast', color='orange')\n",
        "\n",
        "plt.title('Stock Price Forecast')\n",
        "plt.xlabel('Date')\n",
        "plt.ylabel('Price')\n",
        "plt.legend()\n",
        "plt.show()"
      ],
      "metadata": {
        "id": "iT6H6w98gVcE"
      },
      "execution_count": null,
      "outputs": []
    }
  ]
}